{
 "cells": [
  {
   "cell_type": "markdown",
   "metadata": {},
   "source": [
    "# Optimalisasi Persediaan Barang dan Prediksi Permintaan Berbasis Data Mining\n",
    "\n",
    "Proyek ini menggunakan metode regresi linear untuk memprediksi permintaan barang berdasarkan data penjualan. Dataset yang digunakan berasal dari kompetisi [Kaggle Store Sales - Time Series Forecasting](https://www.kaggle.com/competitions/store-sales-time-series-forecasting/data).\n",
    "\n",
    "## Deskripsi Dataset\n",
    "\n",
    "- **train.csv:** Data penjualan historis.\n",
    "- **test.csv:** Data untuk prediksi.\n",
    "- **stores.csv:** Informasi mengenai toko.\n",
    "- **oil.csv:** Harga minyak harian.\n",
    "- **holidays_events.csv:** Informasi mengenai hari libur dan acara.\n",
    "- **transactions.csv:** Data transaksi harian.\n",
    "\n",
    "## Langkah-langkah\n",
    "\n",
    "1. Mengimpor Libraries yang Dibutuhkan\n",
    "2. Membaca Dataset\n",
    "3. Pra-Pemrosesan Data\n",
    "4. Eksplorasi Data\n",
    "5. Menggabungkan Data\n",
    "6. Feature Engineering\n",
    "7. Membangun Model Regresi Linear\n",
    "8. Melakukan Prediksi dan Evaluasi Model\n",
    "9. Menggunakan Model untuk Memprediksi Data Uji\n"
   ]
  },
  {
   "cell_type": "markdown",
   "metadata": {},
   "source": [
    "## Step 1: Import Libraries"
   ]
  },
  {
   "cell_type": "code",
   "execution_count": null,
   "metadata": {},
   "outputs": [],
   "source": [
    "# Step 1: Import Libraries\n",
    "import pandas as pd\n",
    "import numpy as np\n",
    "import matplotlib.pyplot as plt\n",
    "import seaborn as sns\n",
    "from sklearn.linear_model import LinearRegression\n",
    "from sklearn.model_selection import train_test_split\n",
    "from sklearn.metrics import mean_squared_error, r2_score"
   ]
  },
  {
   "cell_type": "markdown",
   "metadata": {},
   "source": [
    "## Step 2: Membaca Dataset\n",
    "\n",
    "Membaca file dataset yang diperlukan menggunakan `pd.read_csv()`."
   ]
  },
  {
   "cell_type": "code",
   "execution_count": null,
   "metadata": {},
   "outputs": [],
   "source": [
    "# Step 2: Membaca Dataset\n",
    "train = pd.read_csv('/workspaces/codespaces-jupyter/data/train.csv')\n",
    "test = pd.read_csv('/workspaces/codespaces-jupyter/data/test.csv')\n",
    "stores = pd.read_csv('/workspaces/codespaces-jupyter/data/stores.csv')\n",
    "oil = pd.read_csv('/workspaces/codespaces-jupyter/data/oil.csv')\n",
    "holidays_events = pd.read_csv('/workspaces/codespaces-jupyter/data/holidays_events.csv')\n",
    "transactions = pd.read_csv('/workspaces/codespaces-jupyter/data/transactions.csv')\n"
   ]
  },
  {
   "cell_type": "markdown",
   "metadata": {},
   "source": [
    "## Step 3: Pra-Pemrosesan Data\n",
    "\n",
    "Mengonversi kolom 'date' menjadi tipe datetime dan mengisi nilai yang hilang pada data oil dengan metode forward fill."
   ]
  },
  {
   "cell_type": "code",
   "execution_count": null,
   "metadata": {},
   "outputs": [],
   "source": [
    "# Step 3: Pra-Pemrosesan Data\n",
    "# Mengonversi kolom 'date' menjadi tipe datetime\n",
    "train['date'] = pd.to_datetime(train['date'])\n",
    "test['date'] = pd.to_datetime(test['date'])\n",
    "oil['date'] = pd.to_datetime(oil['date'])\n",
    "holidays_events['date'] = pd.to_datetime(holidays_events['date'])\n",
    "transactions['date'] = pd.to_datetime(transactions['date'])"
   ]
  },
  {
   "cell_type": "code",
   "execution_count": null,
   "metadata": {},
   "outputs": [],
   "source": [
    "# Mengisi missing values pada data oil dengan metode forward fill\n",
    "oil['dcoilwtico'] = oil['dcoilwtico'].fillna(method='ffill')"
   ]
  },
  {
   "cell_type": "markdown",
   "metadata": {},
   "source": [
    "## Step 4: Eksplorasi Data\n",
    "\n",
    "Melakukan visualisasi data penjualan untuk melihat tren penjualan dari waktu ke waktu."
   ]
  },
  {
   "cell_type": "code",
   "execution_count": null,
   "metadata": {},
   "outputs": [],
   "source": [
    "# Step 4: Eksplorasi Data\n",
    "plt.figure(figsize=(14, 7))\n",
    "plt.plot(train['date'], train['sales'])\n",
    "plt.title('Sales over Time')\n",
    "plt.xlabel('Date')\n",
    "plt.ylabel('Sales')\n",
    "plt.show()"
   ]
  },
  {
   "cell_type": "markdown",
   "metadata": {},
   "source": [
    "## Step 5: Menggabungkan Data\n",
    "\n",
    "Menggabungkan dataset tambahan seperti oil, transactions, dan stores ke dalam dataset utama."
   ]
  },
  {
   "cell_type": "code",
   "execution_count": null,
   "metadata": {},
   "outputs": [],
   "source": [
    "# Step 5: Menggabungkan Data\n",
    "train = train.merge(oil, on='date', how='left')\n",
    "train = train.merge(transactions, on=['date', 'store_nbr'], how='left')\n",
    "train = train.merge(stores, on='store_nbr', how='left')"
   ]
  },
  {
   "cell_type": "code",
   "execution_count": null,
   "metadata": {},
   "outputs": [],
   "source": [
    "# Mengisi missing values\n",
    "train['transactions'] = train['transactions'].fillna(0)\n",
    "train['dcoilwtico'] = train['dcoilwtico'].fillna(train['dcoilwtico'].mean())"
   ]
  },
  {
   "cell_type": "markdown",
   "metadata": {},
   "source": [
    "## Step 6: Feature Engineering\n",
    "\n",
    "Menambahkan fitur-fitur baru yang berguna seperti hari, bulan, tahun, dan hari dalam minggu dari kolom 'date'."
   ]
  },
  {
   "cell_type": "code",
   "execution_count": null,
   "metadata": {},
   "outputs": [],
   "source": [
    "# Step 6: Feature Engineering\n",
    "train['day'] = train['date'].dt.day\n",
    "train['month'] = train['date'].dt.month\n",
    "train['year'] = train['date'].dt.year\n",
    "train['dayofweek'] = train['date'].dt.dayofweek"
   ]
  },
  {
   "cell_type": "markdown",
   "metadata": {},
   "source": [
    "## Step 7: Membangun Model Regresi Linear\n",
    "\n",
    "Membuat dan melatih model regresi linear menggunakan fitur yang telah dipilih."
   ]
  },
  {
   "cell_type": "code",
   "execution_count": null,
   "metadata": {},
   "outputs": [],
   "source": [
    "# Step 7: Membangun Model Regresi Linear\n",
    "# Menggunakan fitur yang dipilih untuk prediksi\n",
    "features = ['store_nbr', 'onpromotion', 'dcoilwtico', 'transactions', 'day', 'month', 'year', 'dayofweek']\n",
    "X = train[features]\n",
    "y = train['sales']"
   ]
  },
  {
   "cell_type": "code",
   "execution_count": null,
   "metadata": {},
   "outputs": [],
   "source": [
    "# Memeriksa dan mengisi missing values pada fitur\n",
    "X = X.fillna(X.mean())"
   ]
  },
  {
   "cell_type": "code",
   "execution_count": null,
   "metadata": {},
   "outputs": [],
   "source": [
    "# Membagi data menjadi data latih dan data uji\n",
    "X_train, X_test, y_train, y_test = train_test_split(X, y, test_size=0.2, random_state=42)"
   ]
  },
  {
   "cell_type": "code",
   "execution_count": null,
   "metadata": {},
   "outputs": [],
   "source": [
    "# Membuat dan melatih model regresi linear\n",
    "model = LinearRegression()\n",
    "model.fit(X_train, y_train)"
   ]
  },
  {
   "cell_type": "markdown",
   "metadata": {},
   "source": [
    "## Step 8: Melakukan Prediksi dan Evaluasi Model\n",
    "\n",
    "Melakukan prediksi menggunakan model yang telah dilatih dan mengevaluasi kinerjanya dengan metrik seperti Mean Squared Error dan R-squared. Hasil prediksi juga divisualisasikan untuk perbandingan dengan data aktual."
   ]
  },
  {
   "cell_type": "code",
   "execution_count": null,
   "metadata": {},
   "outputs": [],
   "source": [
    "# Step 8: Melakukan Prediksi dan Evaluasi Model\n",
    "y_pred = model.predict(X_test)"
   ]
  },
  {
   "cell_type": "code",
   "execution_count": null,
   "metadata": {},
   "outputs": [],
   "source": [
    "# Evaluasi model\n",
    "mse = mean_squared_error(y_test, y_pred)\n",
    "r2 = r2_score(y_test, y_pred)\n",
    "\n",
    "print(f'Mean Squared Error: {mse}')\n",
    "print(f'R-squared: {r2}')"
   ]
  },
  {
   "cell_type": "code",
   "execution_count": null,
   "metadata": {},
   "outputs": [],
   "source": [
    "# Visualisasi hasil prediksi vs data aktual\n",
    "plt.figure(figsize=(14, 7))\n",
    "plt.plot(y_test.values, label='Actual Sales')\n",
    "plt.plot(y_pred, label='Predicted Sales')\n",
    "plt.title('Actual vs Predicted Sales')\n",
    "plt.xlabel('Samples')\n",
    "plt.ylabel('Sales')\n",
    "plt.legend()\n",
    "plt.show()"
   ]
  },
  {
   "cell_type": "markdown",
   "metadata": {},
   "source": [
    "## Step 9: Menggunakan Model untuk Memprediksi Data Uji\n",
    "\n",
    "Melakukan pra-pemrosesan yang sama pada data uji dan menggunakan model untuk memprediksi nilai sales pada data uji. Hasil prediksi disimpan dalam format yang sesuai untuk submission.\n"
   ]
  },
  {
   "cell_type": "code",
   "execution_count": null,
   "metadata": {},
   "outputs": [],
   "source": [
    "# Step 9: Menggunakan Model untuk Memprediksi Data Uji\n",
    "# Melakukan pra-pemrosesan yang sama pada data uji\n",
    "test = test.merge(oil, on='date', how='left')\n",
    "test = test.merge(transactions, on=['date', 'store_nbr'], how='left')\n",
    "test = test.merge(stores, on='store_nbr', how='left')\n"
   ]
  },
  {
   "cell_type": "code",
   "execution_count": null,
   "metadata": {},
   "outputs": [],
   "source": [
    "# Mengisi missing values\n",
    "test['transactions'] = test['transactions'].fillna(0)\n",
    "test['dcoilwtico'] = test['dcoilwtico'].fillna(test['dcoilwtico'].mean())"
   ]
  },
  {
   "cell_type": "code",
   "execution_count": null,
   "metadata": {},
   "outputs": [],
   "source": [
    "# Menambahkan fitur baru pada data uji\n",
    "test['day'] = test['date'].dt.day\n",
    "test['month'] = test['date'].dt.month\n",
    "test['year'] = test['date'].dt.year\n",
    "test['dayofweek'] = test['date'].dt.dayofweek"
   ]
  },
  {
   "cell_type": "code",
   "execution_count": null,
   "metadata": {},
   "outputs": [],
   "source": [
    "# Menggunakan model untuk memprediksi data uji\n",
    "X_test = test[features]\n",
    "X_test = X_test.fillna(X_test.mean())\n",
    "test['sales'] = model.predict(X_test)"
   ]
  },
  {
   "cell_type": "code",
   "execution_count": null,
   "metadata": {},
   "outputs": [],
   "source": [
    "# Menyimpan hasil prediksi dalam format yang sesuai untuk submission\n",
    "submission = test[['id', 'sales']]\n",
    "submission.to_csv('submission.csv', index=False)\n"
   ]
  }
 ],
 "metadata": {
  "kernelspec": {
   "display_name": "Python 3",
   "language": "python",
   "name": "python3"
  },
  "language_info": {
   "codemirror_mode": {
    "name": "ipython",
    "version": 3
   },
   "file_extension": ".py",
   "mimetype": "text/x-python",
   "name": "python",
   "nbconvert_exporter": "python",
   "pygments_lexer": "ipython3",
   "version": "3.10.13"
  }
 },
 "nbformat": 4,
 "nbformat_minor": 2
}
